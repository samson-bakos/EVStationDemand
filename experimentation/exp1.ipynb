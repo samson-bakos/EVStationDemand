{
 "cells": [
  {
   "cell_type": "markdown",
   "metadata": {},
   "source": [
    "# Parse Annotations"
   ]
  },
  {
   "cell_type": "markdown",
   "metadata": {},
   "source": [
    "Join annotations and create dict of dataframes + car counts"
   ]
  },
  {
   "cell_type": "code",
   "execution_count": 1,
   "metadata": {},
   "outputs": [],
   "source": [
    "from parsing_utils import *\n",
    "\n",
    "annotations_dir = \"../data/VEDAI1024/Annotations1024\"\n",
    "annotations_dict = parse_annotations_to_dict(annotations_dir)\n"
   ]
  },
  {
   "cell_type": "code",
   "execution_count": 2,
   "metadata": {},
   "outputs": [
    {
     "data": {
      "text/plain": [
       "{'annotation_df':      center_x    center_y  orientation  class_label  occluded  \\\n",
       " 0   58.681547  632.567510    -2.844031            1         1   \n",
       " 1  953.272985  918.473923    -2.807891            1         1   \n",
       " \n",
       "    fully_contained  corner1_x  corner1_y  corner2_x  corner2_y  corner3_x  \\\n",
       " 0                0         41         81         74         39        619   \n",
       " 1                0        938        976        968        931        906   \n",
       " \n",
       "    corner3_y  corner4_x  corner4_y  \n",
       " 0        632        645        635  \n",
       " 1        919        931        918  ,\n",
       " 'df_length': 2}"
      ]
     },
     "execution_count": 2,
     "metadata": {},
     "output_type": "execute_result"
    }
   ],
   "source": [
    "annotations_dict['00000700']"
   ]
  },
  {
   "cell_type": "markdown",
   "metadata": {},
   "source": [
    "# Parse Images"
   ]
  },
  {
   "cell_type": "markdown",
   "metadata": {},
   "source": [
    "Extract images from Tarfiles\n",
    "\n",
    "Keep commented - tars have been deleted but images are stored locally"
   ]
  },
  {
   "cell_type": "code",
   "execution_count": 3,
   "metadata": {},
   "outputs": [],
   "source": [
    "# source_dir = '../raw_img/'\n",
    "# dest_dir = '../data/VEDAI1024/images/'\n",
    "# base_filename = 'Vehicules1024'  # Base name of the tar files\n",
    "# combined_filename = 'Vehicules1024_combined.tar'  # Name for the combined tar file\n",
    "\n",
    "# # Run the script\n",
    "# handle_split_tars(source_dir, dest_dir, base_filename, combined_filename)"
   ]
  },
  {
   "cell_type": "markdown",
   "metadata": {},
   "source": [
    "# Training a Model"
   ]
  },
  {
   "cell_type": "code",
   "execution_count": 4,
   "metadata": {},
   "outputs": [],
   "source": [
    "from PIL import ImageFile\n",
    "from training_utils import *\n",
    "from torchvision.models.detection import ssd300_vgg16\n",
    "\n",
    "ImageFile.LOAD_TRUNCATED_IMAGES = True"
   ]
  },
  {
   "cell_type": "code",
   "execution_count": 5,
   "metadata": {},
   "outputs": [],
   "source": [
    "dataset = VEDAI_Dataset(annotations_dict, '../data/VEDAI1024/images/Vehicules1024')"
   ]
  },
  {
   "cell_type": "code",
   "execution_count": 6,
   "metadata": {},
   "outputs": [],
   "source": [
    "dataset.validate_dataset()"
   ]
  },
  {
   "cell_type": "code",
   "execution_count": null,
   "metadata": {},
   "outputs": [],
   "source": [
    "num_classes = 2\n",
    "model = ssd300_vgg16(num_classes=num_classes)"
   ]
  },
  {
   "cell_type": "code",
   "execution_count": null,
   "metadata": {},
   "outputs": [],
   "source": [
    "device = torch.device(\"mps\" if torch.backends.mps.is_available() else \"cpu\")\n",
    "print(device)"
   ]
  },
  {
   "cell_type": "code",
   "execution_count": null,
   "metadata": {},
   "outputs": [],
   "source": [
    "train_model(model, dataset, device, epochs=10)"
   ]
  },
  {
   "cell_type": "code",
   "execution_count": null,
   "metadata": {},
   "outputs": [],
   "source": []
  }
 ],
 "metadata": {
  "kernelspec": {
   "display_name": "base",
   "language": "python",
   "name": "python3"
  },
  "language_info": {
   "codemirror_mode": {
    "name": "ipython",
    "version": 3
   },
   "file_extension": ".py",
   "mimetype": "text/x-python",
   "name": "python",
   "nbconvert_exporter": "python",
   "pygments_lexer": "ipython3",
   "version": "3.10.6"
  }
 },
 "nbformat": 4,
 "nbformat_minor": 2
}
