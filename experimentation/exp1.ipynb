{
 "cells": [
  {
   "cell_type": "markdown",
   "metadata": {},
   "source": [
    "# Parse Annotations"
   ]
  },
  {
   "cell_type": "markdown",
   "metadata": {},
   "source": [
    "Join annotations and create dict of dataframes + car counts"
   ]
  },
  {
   "cell_type": "code",
   "execution_count": 1,
   "metadata": {},
   "outputs": [],
   "source": [
    "from parsingfunc import *\n",
    "\n",
    "annotations_dir = \"../data/VEDAI1024/Annotations1024\"\n",
    "annotations_dict = parse_annotations_to_dict(annotations_dir)\n"
   ]
  },
  {
   "cell_type": "code",
   "execution_count": 2,
   "metadata": {},
   "outputs": [
    {
     "data": {
      "text/plain": [
       "{'annotation_df':      center_x    center_y  orientation  class_label  occluded  \\\n",
       " 0   58.681547  632.567510    -2.844031            1         1   \n",
       " 1  953.272985  918.473923    -2.807891            1         1   \n",
       " \n",
       "    fully_contained  corner1_x  corner1_y  corner2_x  corner2_y  corner3_x  \\\n",
       " 0                0         41         81         74         39        619   \n",
       " 1                0        938        976        968        931        906   \n",
       " \n",
       "    corner3_y  corner4_x  corner4_y  \n",
       " 0        632        645        635  \n",
       " 1        919        931        918  ,\n",
       " 'df_length': 2}"
      ]
     },
     "execution_count": 2,
     "metadata": {},
     "output_type": "execute_result"
    }
   ],
   "source": [
    "annotations_dict['00000700']"
   ]
  },
  {
   "cell_type": "markdown",
   "metadata": {},
   "source": [
    "# Parse Images"
   ]
  },
  {
   "cell_type": "markdown",
   "metadata": {},
   "source": [
    "Extract images from Tarfiles\n",
    "\n",
    "Keep commented - tars have been deleted but images are stored locally"
   ]
  },
  {
   "cell_type": "code",
   "execution_count": 4,
   "metadata": {},
   "outputs": [],
   "source": [
    "# source_dir = '../raw_img/'\n",
    "# dest_dir = '../data/VEDAI1024/images/'\n",
    "# base_filename = 'Vehicules1024'  # Base name of the tar files\n",
    "# combined_filename = 'Vehicules1024_combined.tar'  # Name for the combined tar file\n",
    "\n",
    "# # Run the script\n",
    "# handle_split_tars(source_dir, dest_dir, base_filename, combined_filename)"
   ]
  },
  {
   "cell_type": "markdown",
   "metadata": {},
   "source": [
    "# Training a Model"
   ]
  },
  {
   "cell_type": "code",
   "execution_count": 5,
   "metadata": {},
   "outputs": [],
   "source": [
    "import torch\n",
    "from torchvision import transforms\n",
    "from PIL import Image"
   ]
  },
  {
   "cell_type": "code",
   "execution_count": 6,
   "metadata": {},
   "outputs": [],
   "source": [
    "class VEDAI_Dataset(torch.utils.data.Dataset):\n",
    "    \"\"\"Parse Data as a PyTorch Dataset\"\"\"\n",
    "    def __init__(self, annotations_dict, img_dir, transform=None):\n",
    "        self.annotations_dict = annotations_dict\n",
    "        self.img_dir = img_dir\n",
    "        self.transform = transform\n",
    "\n",
    "    def __len__(self):\n",
    "        return len(self.annotations_dict)\n",
    "\n",
    "    def __getitem__(self, idx):\n",
    "        img_name = os.path.join(self.img_dir, f'{str(idx).zfill(8)}_co.png')\n",
    "        image = Image.open(img_name).convert(\"RGB\")\n",
    "        \n",
    "        labels = self.annotations_dict[str(idx).zfill(8)]['annotation_df']\n",
    "        \n",
    "        if self.transform:\n",
    "            image = self.transform(image)\n",
    "            \n",
    "        boxes = labels[['corner1_x', 'corner1_y', 'corner2_x', 'corner2_y',\n",
    "                        'corner3_x', 'corner3_y', 'corner4_x', 'corner4_y']].values\n",
    "        boxes = torch.as_tensor(boxes, dtype=torch.float32)\n",
    "        \n",
    "        labels = torch.ones((labels.shape[0],), dtype=torch.int64)\n",
    "        \n",
    "        target = {}\n",
    "        target['boxes'] = boxes\n",
    "        target['labels'] = labels\n",
    "        \n",
    "        return image, target\n",
    "\n",
    "transform = transforms.Compose([\n",
    "    transforms.Resize((800, 800)), \n",
    "    transforms.ToTensor()\n",
    "])\n",
    "\n"
   ]
  },
  {
   "cell_type": "code",
   "execution_count": 7,
   "metadata": {},
   "outputs": [],
   "source": [
    "dataset = VEDAI_Dataset(annotations_dict, '../data/VEDAI1024/images/', transform)"
   ]
  },
  {
   "cell_type": "code",
   "execution_count": null,
   "metadata": {},
   "outputs": [],
   "source": []
  }
 ],
 "metadata": {
  "kernelspec": {
   "display_name": "base",
   "language": "python",
   "name": "python3"
  },
  "language_info": {
   "codemirror_mode": {
    "name": "ipython",
    "version": 3
   },
   "file_extension": ".py",
   "mimetype": "text/x-python",
   "name": "python",
   "nbconvert_exporter": "python",
   "pygments_lexer": "ipython3",
   "version": "3.10.6"
  }
 },
 "nbformat": 4,
 "nbformat_minor": 2
}
